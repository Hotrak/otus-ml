{
 "cells": [
  {
   "cell_type": "markdown",
   "metadata": {},
   "source": [
    "# I. Numpy"
   ]
  },
  {
   "cell_type": "markdown",
   "metadata": {},
   "source": [
    "### Импортируйте NumPy"
   ]
  },
  {
   "cell_type": "code",
   "execution_count": null,
   "metadata": {},
   "outputs": [],
   "source": [
    "import numpy as np"
   ]
  },
  {
   "cell_type": "markdown",
   "metadata": {},
   "source": [
    "### Создайте одномерный массив размера 10, заполненный нулями и пятым элемент равным 1. Трансформируйте в двумерный массив."
   ]
  },
  {
   "cell_type": "code",
   "execution_count": null,
   "metadata": {},
   "outputs": [],
   "source": [
    "array_2d = np.zeros(10)\n",
    "array_2d[4] = 1\n",
    "array_2d = array_2d.reshape(2, 5)\n",
    "print(\"2. Массив 2x5 с пятым элементом, равным 1:\\n\", array_2d)"
   ]
  },
  {
   "cell_type": "markdown",
   "metadata": {},
   "source": [
    "### Создайте одномерный массив со значениями от 10 до 49 и разверните его (первый элемент становится последним). Найдите в нем все четные элементы."
   ]
  },
  {
   "cell_type": "code",
   "execution_count": null,
   "metadata": {},
   "outputs": [],
   "source": [
    "array_1d = np.arange(10, 50)\n",
    "array_reversed = array_1d[::-1]\n",
    "even_elements = array_reversed[array_reversed % 2 == 0]\n",
    "print(\"\\n3. Развернутый массив:\\n\", array_reversed)\n",
    "print(\"Четные элементы:\\n\", even_elements)"
   ]
  },
  {
   "cell_type": "markdown",
   "metadata": {},
   "source": [
    "### Создайте двумерный массив 3x3 со значениями от 0 до 8"
   ]
  },
  {
   "cell_type": "code",
   "execution_count": null,
   "metadata": {},
   "outputs": [],
   "source": [
    "array_3x3 = np.arange(9).reshape(3, 3)\n",
    "print(\"\\n4. Массив 3x3:\\n\", array_3x3)"
   ]
  },
  {
   "cell_type": "markdown",
   "metadata": {},
   "source": [
    "### Создайте массив 4x3x2 со случайными значениями. Найти его минимум и максимум."
   ]
  },
  {
   "cell_type": "code",
   "execution_count": null,
   "metadata": {},
   "outputs": [],
   "source": [
    "array_4x3x2 = np.random.random((4, 3, 2))\n",
    "array_min = array_4x3x2.min()\n",
    "array_max = array_4x3x2.max()\n",
    "print(\"\\n5. Случайный массив 4x3x2:\\n\", array_4x3x2)\n",
    "print(\"Минимум:\", array_min)\n",
    "print(\"Максимум:\", array_max)"
   ]
  },
  {
   "cell_type": "markdown",
   "metadata": {},
   "source": [
    "### Создайте два двумерных массива размерами 6x4 и 4x3 и произведите их матричное умножение. "
   ]
  },
  {
   "cell_type": "code",
   "execution_count": null,
   "metadata": {},
   "outputs": [],
   "source": [
    "array_6x4 = np.random.random((6, 4))\n",
    "array_4x3 = np.random.random((4, 3))\n",
    "matrix_product = np.dot(array_6x4, array_4x3)\n",
    "print(\"\\n6. Матричное умножение массивов 6x4 и 4x3:\\n\", matrix_product)"
   ]
  },
  {
   "cell_type": "markdown",
   "metadata": {},
   "source": [
    "### Создайте случайный двумерный массив 7x7, найти у него среднее и стандартное оклонение. Нормализуйте этот массив."
   ]
  },
  {
   "cell_type": "code",
   "execution_count": null,
   "metadata": {},
   "outputs": [],
   "source": [
    "array_7x7 = np.random.random((7, 7))\n",
    "mean = array_7x7.mean()\n",
    "std_dev = array_7x7.std()\n",
    "normalized_array = (array_7x7 - mean) / std_dev\n",
    "print(\"\\n7. Случайный массив 7x7:\\n\", array_7x7)\n",
    "print(\"Среднее:\", mean)\n",
    "print(\"Стандартное отклонение:\", std_dev)\n",
    "print(\"Нормализованный массив:\\n\", normalized_array)"
   ]
  },
  {
   "cell_type": "markdown",
   "metadata": {},
   "source": [
    "# II. Pandas"
   ]
  },
  {
   "cell_type": "markdown",
   "metadata": {},
   "source": [
    "### Импортируйте: pandas, matplotlib, seaborn"
   ]
  },
  {
   "cell_type": "code",
   "execution_count": null,
   "metadata": {},
   "outputs": [],
   "source": [
    "import pandas as pd\n",
    "import matplotlib.pyplot as plt\n",
    "import seaborn as sns"
   ]
  },
  {
   "cell_type": "markdown",
   "metadata": {},
   "source": [
    "### Загрузите датасет Tips из набора датасетов seaborn"
   ]
  },
  {
   "cell_type": "code",
   "execution_count": null,
   "metadata": {},
   "outputs": [],
   "source": [
    "tips = sns.load_dataset(\"tips\")"
   ]
  },
  {
   "cell_type": "markdown",
   "metadata": {},
   "source": [
    "### Посмотрите на первые 5 строчек"
   ]
  },
  {
   "cell_type": "code",
   "execution_count": null,
   "metadata": {},
   "outputs": [],
   "source": [
    "print(\"Первые 5 строк датасета:\\n\", tips.head())\n"
   ]
  },
  {
   "cell_type": "markdown",
   "metadata": {},
   "source": [
    "### Узнайте сколько всего строчек и колонок в данных"
   ]
  },
  {
   "cell_type": "code",
   "execution_count": null,
   "metadata": {},
   "outputs": [],
   "source": [
    "print(\"\\nКоличество строк и колонок:\", tips.shape)"
   ]
  },
  {
   "cell_type": "markdown",
   "metadata": {},
   "source": [
    "### Проверьте есть ли пропуски в данных"
   ]
  },
  {
   "cell_type": "code",
   "execution_count": null,
   "metadata": {},
   "outputs": [],
   "source": [
    "print(\"\\nЕсть ли пропуски в данных:\\n\", tips.isnull().sum())"
   ]
  },
  {
   "cell_type": "markdown",
   "metadata": {},
   "source": [
    "### Посмотрите на распределение числовых признаков"
   ]
  },
  {
   "cell_type": "code",
   "execution_count": null,
   "metadata": {},
   "outputs": [],
   "source": [
    "print(\"\\nОписательная статистика числовых признаков:\\n\", tips.describe())\n",
    "tips.hist(figsize=(10, 6), bins=15)\n",
    "plt.suptitle(\"Распределение числовых признаков\", fontsize=16)\n",
    "plt.show()"
   ]
  },
  {
   "cell_type": "markdown",
   "metadata": {},
   "source": [
    "### Найдите максимальное значение 'total_bill'"
   ]
  },
  {
   "cell_type": "code",
   "execution_count": null,
   "metadata": {},
   "outputs": [],
   "source": [
    "max_total_bill = tips['total_bill'].max()\n",
    "print(\"\\nМаксимальное значение 'total_bill':\", max_total_bill)"
   ]
  },
  {
   "cell_type": "markdown",
   "metadata": {},
   "source": [
    "### Найдите количество курящих людей"
   ]
  },
  {
   "cell_type": "code",
   "execution_count": null,
   "metadata": {},
   "outputs": [],
   "source": [
    "num_smokers = tips[tips['smoker'] == 'Yes'].shape[0]\n",
    "print(\"\\nКоличество курящих людей:\", num_smokers)\n"
   ]
  },
  {
   "cell_type": "markdown",
   "metadata": {},
   "source": [
    "### Узнайте какой средний 'total_bill' в зависимости от 'day'"
   ]
  },
  {
   "cell_type": "code",
   "execution_count": null,
   "metadata": {},
   "outputs": [],
   "source": [
    "mean_total_bill_by_day = tips.groupby('day')['total_bill'].mean()\n",
    "print(\"\\nСредний 'total_bill' в зависимости от 'day':\\n\", mean_total_bill_by_day)"
   ]
  },
  {
   "cell_type": "markdown",
   "metadata": {},
   "source": [
    "### Отберите строчки с 'total_bill' больше медианы и узнайте какой средний 'tip' в зависимости от 'sex'"
   ]
  },
  {
   "cell_type": "code",
   "execution_count": null,
   "metadata": {},
   "outputs": [],
   "source": [
    "median_total_bill = tips['total_bill'].median()\n",
    "filtered_data = tips[tips['total_bill'] > median_total_bill]\n",
    "mean_tip_by_sex = filtered_data.groupby('sex')['tip'].mean()\n",
    "print(\"\\nСредний 'tip' в зависимости от 'sex' для 'total_bill' > медианы:\\n\", mean_tip_by_sex)"
   ]
  },
  {
   "cell_type": "markdown",
   "metadata": {},
   "source": [
    "### Преобразуйте признак 'smoker' в бинарный (0-No, 1-Yes)"
   ]
  },
  {
   "cell_type": "code",
   "execution_count": null,
   "metadata": {},
   "outputs": [],
   "source": [
    "tips['smoker_binary'] = tips['smoker'].map({'No': 0, 'Yes': 1})\n",
    "print(\"\\nДатасет с преобразованным признаком 'smoker_binary':\\n\", tips.head())"
   ]
  },
  {
   "cell_type": "markdown",
   "metadata": {},
   "source": [
    "# III. Visualization"
   ]
  },
  {
   "cell_type": "markdown",
   "metadata": {},
   "source": [
    "### Постройте гистограмму распределения признака 'total_bill'"
   ]
  },
  {
   "cell_type": "code",
   "execution_count": null,
   "metadata": {},
   "outputs": [],
   "source": [
    "plt.figure(figsize=(8, 5))\n",
    "sns.histplot(tips['total_bill'], bins=20, kde=True, color='skyblue')\n",
    "plt.title(\"Распределение 'total_bill'\", fontsize=16)\n",
    "plt.xlabel(\"Total Bill\")\n",
    "plt.ylabel(\"Frequency\")\n",
    "plt.show()"
   ]
  },
  {
   "cell_type": "markdown",
   "metadata": {},
   "source": [
    "### Постройте scatterplot, представляющий взаимосвязь между признаками 'total_bill' и 'tip'"
   ]
  },
  {
   "cell_type": "code",
   "execution_count": null,
   "metadata": {},
   "outputs": [],
   "source": [
    "plt.figure(figsize=(8, 5))\n",
    "sns.scatterplot(x='total_bill', y='tip', data=tips, hue='smoker', palette='cool')\n",
    "plt.title(\"Взаимосвязь между 'total_bill' и 'tip'\", fontsize=16)\n",
    "plt.xlabel(\"Total Bill\")\n",
    "plt.ylabel(\"Tip\")\n",
    "plt.legend(title='Smoker')\n",
    "plt.show()"
   ]
  },
  {
   "cell_type": "markdown",
   "metadata": {},
   "source": [
    "### Постройте pairplot"
   ]
  },
  {
   "cell_type": "code",
   "execution_count": null,
   "metadata": {},
   "outputs": [],
   "source": [
    "sns.pairplot(tips, hue='sex', palette='Set2', diag_kind='kde')\n",
    "plt.suptitle(\"Pairplot для датасета Tips\", y=1.02, fontsize=16)\n",
    "plt.show()"
   ]
  },
  {
   "cell_type": "markdown",
   "metadata": {},
   "source": [
    "### Постройте график взаимосвязи между признаками 'total_bill' и 'day'"
   ]
  },
  {
   "cell_type": "code",
   "execution_count": null,
   "metadata": {},
   "outputs": [],
   "source": [
    "plt.figure(figsize=(8, 5))\n",
    "sns.boxplot(x='day', y='total_bill', data=tips, palette='pastel')\n",
    "plt.title(\"Взаимосвязь между 'total_bill' и 'day'\", fontsize=16)\n",
    "plt.xlabel(\"Day\")\n",
    "plt.ylabel(\"Total Bill\")\n",
    "plt.show()"
   ]
  },
  {
   "cell_type": "markdown",
   "metadata": {},
   "source": [
    "### Постройте две гистограммы распределения признака 'tip' в зависимости от категорий 'time'"
   ]
  },
  {
   "cell_type": "code",
   "execution_count": null,
   "metadata": {},
   "outputs": [],
   "source": [
    "plt.figure(figsize=(12, 5))\n",
    "sns.histplot(data=tips, x='tip', hue='time', bins=15, kde=True, palette='Set1', multiple='stack')\n",
    "plt.title(\"Распределение 'tip' в зависимости от 'time'\", fontsize=16)\n",
    "plt.xlabel(\"Tip\")\n",
    "plt.ylabel(\"Frequency\")\n",
    "plt.show()"
   ]
  },
  {
   "cell_type": "markdown",
   "metadata": {},
   "source": [
    "### Постройте два графика scatterplot, представляющих взаимосвязь между признаками 'total_bill' и 'tip' один для Male, другой для Female и раскрасьте точки в зависимоти от признака 'smoker'"
   ]
  },
  {
   "cell_type": "code",
   "execution_count": null,
   "metadata": {},
   "outputs": [],
   "source": [
    "plt.figure(figsize=(12, 5))\n",
    "\n",
    "# Male\n",
    "plt.subplot(1, 2, 1)\n",
    "sns.scatterplot(x='total_bill', y='tip', data=tips[tips['sex'] == 'Male'], hue='smoker', palette='cool', alpha=0.8)\n",
    "plt.title(\"Male: Взаимосвязь между 'total_bill' и 'tip'\", fontsize=14)\n",
    "plt.xlabel(\"Total Bill\")\n",
    "plt.ylabel(\"Tip\")\n",
    "plt.legend(title='Smoker')\n",
    "\n",
    "# Female\n",
    "plt.subplot(1, 2, 2)\n",
    "sns.scatterplot(x='total_bill', y='tip', data=tips[tips['sex'] == 'Female'], hue='smoker', palette='cool', alpha=0.8)\n",
    "plt.title(\"Female: Взаимосвязь между 'total_bill' и 'tip'\", fontsize=14)\n",
    "plt.xlabel(\"Total Bill\")\n",
    "plt.ylabel(\"Tip\")\n",
    "plt.legend(title='Smoker')\n",
    "\n",
    "plt.tight_layout()\n",
    "plt.show()"
   ]
  },
  {
   "cell_type": "markdown",
   "metadata": {},
   "source": [
    "## Сделайте выводы по анализу датасета и построенным графикам. По желанию можете продолжить анализ данных и также отразить это в выводах."
   ]
  },
  {
   "cell_type": "markdown",
   "metadata": {},
   "source": [
    "### **Выводы по анализу датасета:**\n",
    "\n",
    "### 1. **Распределение 'total_bill':**\n",
    "###    - Признак имеет положительное смещение (правостороннее распределение), большинство значений 'total_bill' лежат в пределах до 20-30.\n",
    "\n",
    "### 2. **Взаимосвязь между 'total_bill' и 'tip':**\n",
    "###    - Между этими признаками наблюдается линейная зависимость: чем больше 'total_bill', тем выше 'tip'.\n",
    "###    - Курящие люди (smoker) не показывают заметно отличающихся паттернов во взаимосвязи.\n",
    "\n",
    "### 3. **Pairplot:**\n",
    "###    - Видна корреляция между 'total_bill' и 'tip', а также распределения этих признаков различаются в зависимости от пола.\n",
    "\n",
    "### 4. **Взаимосвязь 'total_bill' и 'day':**\n",
    "###    - В выходные счета 'total_bill' в среднем выше, чем в будние.\n",
    "\n",
    "### 5. **Распределение 'tip' в зависимости от 'time':**\n",
    "###    - В обед чаевые меньше, чем на ужин.\n",
    "\n",
    "### 6. **Scatterplot для Male и Female:**\n",
    "###    - У мужчин и женщин наблюдаются схожие тренды, но мужчины чаще оставляют более крупные чаевые при высоких 'total_bill'.\n",
    "###    - Курящие клиенты не имеют явной тенденции, но их распределение в данных разнообразно.\n",
    "\n",
    "### **Дополнительные наблюдения:**\n",
    "### - Средний размер чаевых составляет около 2-3, вне зависимости от времени или пола.\n",
    "### - Данные показывают, что курящие клиенты не имеют значительных различий в поведении с некурящими при анализе."
   ]
  }
 ],
 "metadata": {
  "kernelspec": {
   "display_name": ".venv",
   "language": "python",
   "name": "python3"
  },
  "language_info": {
   "codemirror_mode": {
    "name": "ipython",
    "version": 3
   },
   "file_extension": ".py",
   "mimetype": "text/x-python",
   "name": "python",
   "nbconvert_exporter": "python",
   "pygments_lexer": "ipython3",
   "version": "3.12.3"
  },
  "toc-autonumbering": false
 },
 "nbformat": 4,
 "nbformat_minor": 2
}
