{
 "cells": [
  {
   "cell_type": "markdown",
   "metadata": {},
   "source": [
    "## Описание/Пошаговая инструкция выполнения домашнего задания:\n",
    "* В проекте мы работаем с медиа-файлами (аудио, видео, фото).\n",
    "* Есть некоторый общий набор данных о файле, необходимый для реализации бизнес-логики (имя, размер, дата создания, владелец...).\n",
    "* Для каждого типа медиа-файлов есть свой набор метаданных.\n",
    "* Попробуйте написать классы для работы с медиа-файлами (они будут основой для пользовательского кода остальных команд).\n",
    "* Приведите примеры кода, как можно создать, обновить, удалить или провести какое-нибудь действие (конвертация, извлечение фич) над файлом (можно без реализации деталей).\n",
    "* Попробуйте дописать классы для работы с файлами, расположенными не на локальном диске (облако, удаленный сервер, s3-like storage).\n",
    "Попробуйте ответить на вопросы: много ли кода придется дописать / переписать при добавлении новых типов файлов и способов их хранения?\n",
    "* !Суть задания — именно проектирование классовой иерархии, а не реализация самой логики, поэтому достаточно, например, просто объявить метод .save(...) и в комментарии уточнить, что он должен делать, без конкретной реализации."
   ]
  },
  {
   "cell_type": "code",
   "execution_count": 1,
   "metadata": {},
   "outputs": [],
   "source": [
    "from abc import ABC, abstractmethod\n",
    "from datetime import datetime\n",
    "\n",
    "class MediaFile(ABC):\n",
    "    \"\"\"Базовый класс для всех типов медиа-файлов.\"\"\"\n",
    "    \n",
    "    def __init__(self, name: str, size: int, creation_date: datetime, owner: str):\n",
    "        self.name = name\n",
    "        self.size = size\n",
    "        self.creation_date = creation_date\n",
    "        self.owner = owner\n",
    "    \n",
    "    @abstractmethod\n",
    "    def get_metadata(self) -> dict:\n",
    "        \"\"\"Получить метаданные файла.\"\"\"\n",
    "        pass\n",
    "\n",
    "    @abstractmethod\n",
    "    def save(self, storage_path: str) -> None:\n",
    "        \"\"\"Сохранить файл в указанное хранилище.\"\"\"\n",
    "        pass\n",
    "\n",
    "    @abstractmethod\n",
    "    def delete(self) -> None:\n",
    "        \"\"\"Удалить файл.\"\"\"\n",
    "        pass"
   ]
  },
  {
   "cell_type": "code",
   "execution_count": 2,
   "metadata": {},
   "outputs": [],
   "source": [
    "class AudioFile(MediaFile):\n",
    "    \"\"\"Класс для работы с аудио-файлами.\"\"\"\n",
    "    \n",
    "    def __init__(self, name: str, size: int, creation_date: datetime, owner: str, duration: int, bitrate: int):\n",
    "        super().__init__(name, size, creation_date, owner)\n",
    "        self.duration = duration  # Длительность в секундах\n",
    "        self.bitrate = bitrate    # Битрейт в kbps\n",
    "\n",
    "    def get_metadata(self) -> dict:\n",
    "        return {\n",
    "            \"name\": self.name,\n",
    "            \"size\": self.size,\n",
    "            \"creation_date\": self.creation_date,\n",
    "            \"owner\": self.owner,\n",
    "            \"duration\": self.duration,\n",
    "            \"bitrate\": self.bitrate\n",
    "        }\n",
    "\n",
    "    def save(self, storage_path: str) -> None:\n",
    "        # Логика сохранения аудио-файла\n",
    "        print(f\"Сохраняем аудио-файл {self.name} в {storage_path}\")\n",
    "\n",
    "    def delete(self) -> None:\n",
    "        # Логика удаления аудио-файла\n",
    "        print(f\"Удаляем аудио-файл {self.name}\")"
   ]
  },
  {
   "cell_type": "code",
   "execution_count": 3,
   "metadata": {},
   "outputs": [],
   "source": [
    "class VideoFile(MediaFile):\n",
    "    \"\"\"Класс для работы с видео-файлами.\"\"\"\n",
    "    \n",
    "    def __init__(self, name: str, size: int, creation_date: datetime, owner: str, resolution: str, framerate: int):\n",
    "        super().__init__(name, size, creation_date, owner)\n",
    "        self.resolution = resolution \n",
    "        self.framerate = framerate \n",
    "\n",
    "    def get_metadata(self) -> dict:\n",
    "        return {\n",
    "            \"name\": self.name,\n",
    "            \"size\": self.size,\n",
    "            \"creation_date\": self.creation_date,\n",
    "            \"owner\": self.owner,\n",
    "            \"resolution\": self.resolution,\n",
    "            \"framerate\": self.framerate\n",
    "        }\n",
    "\n",
    "    def save(self, storage_path: str) -> None:\n",
    "        # Логика сохранения видео-файла\n",
    "        print(f\"Сохраняем видео-файл {self.name} в {storage_path}\")\n",
    "\n",
    "    def delete(self) -> None:\n",
    "        # Логика удаления видео-файла\n",
    "        print(f\"Удаляем видео-файл {self.name}\")"
   ]
  },
  {
   "cell_type": "code",
   "execution_count": 4,
   "metadata": {},
   "outputs": [],
   "source": [
    "class PhotoFile(MediaFile):\n",
    "    \"\"\"Класс для работы с фотографиями.\"\"\"\n",
    "    \n",
    "    def __init__(self, name: str, size: int, creation_date: datetime, owner: str, resolution: str, camera_model: str):\n",
    "        super().__init__(name, size, creation_date, owner)\n",
    "        self.resolution = resolution  \n",
    "        self.camera_model = camera_model\n",
    "\n",
    "    def get_metadata(self) -> dict:\n",
    "        return {\n",
    "            \"name\": self.name,\n",
    "            \"size\": self.size,\n",
    "            \"creation_date\": self.creation_date,\n",
    "            \"owner\": self.owner,\n",
    "            \"resolution\": self.resolution,\n",
    "            \"camera_model\": self.camera_model\n",
    "        }\n",
    "\n",
    "    def save(self, storage_path: str) -> None:\n",
    "        # Логика сохранения фотографии\n",
    "        print(f\"Сохраняем фото {self.name} в {storage_path}\")\n",
    "\n",
    "    def delete(self) -> None:\n",
    "        # Логика удаления фотографии\n",
    "        print(f\"Удаляем фото {self.name}\")"
   ]
  },
  {
   "cell_type": "code",
   "execution_count": 5,
   "metadata": {},
   "outputs": [],
   "source": [
    "class Storage(ABC):\n",
    "    \"\"\"Интерфейс для работы с хранилищами.\"\"\"\n",
    "    \n",
    "    @abstractmethod\n",
    "    def upload(self, file: MediaFile, path: str) -> None:\n",
    "        \"\"\"Загрузить файл в хранилище.\"\"\"\n",
    "        pass\n",
    "\n",
    "    @abstractmethod\n",
    "    def delete(self, file: MediaFile) -> None:\n",
    "        \"\"\"Удалить файл из хранилища.\"\"\"\n",
    "        pass"
   ]
  },
  {
   "cell_type": "code",
   "execution_count": 6,
   "metadata": {},
   "outputs": [],
   "source": [
    "class LocalStorage(Storage):\n",
    "    \"\"\"Класс для работы с локальным хранилищем.\"\"\"\n",
    "    \n",
    "    def upload(self, file: MediaFile, path: str) -> None:\n",
    "        print(f\"Файл {file.name} сохранен локально в {path}\")\n",
    "\n",
    "    def delete(self, file: MediaFile) -> None:\n",
    "        print(f\"Файл {file.name} удален из локального хранилища\")"
   ]
  },
  {
   "cell_type": "code",
   "execution_count": 7,
   "metadata": {},
   "outputs": [],
   "source": [
    "class CloudStorage(Storage):\n",
    "    \"\"\"Класс для работы с облачным хранилищем.\"\"\"\n",
    "    \n",
    "    def upload(self, file: MediaFile, path: str) -> None:\n",
    "        print(f\"Файл {file.name} загружен в облако по пути {path}\")\n",
    "\n",
    "    def delete(self, file: MediaFile) -> None:\n",
    "        print(f\"Файл {file.name} удален из облачного хранилища\")"
   ]
  },
  {
   "cell_type": "code",
   "execution_count": 8,
   "metadata": {},
   "outputs": [
    {
     "name": "stdout",
     "output_type": "stream",
     "text": [
      "{'name': 'song.mp3', 'size': 5000, 'creation_date': datetime.datetime(2025, 2, 6, 12, 22, 27, 414024), 'owner': 'user1', 'duration': 180, 'bitrate': 320}\n",
      "{'name': 'movie.mp4', 'size': 1500000, 'creation_date': datetime.datetime(2025, 2, 6, 12, 22, 27, 414113), 'owner': 'user2', 'resolution': '1920x1080', 'framerate': 60}\n",
      "{'name': 'photo.jpg', 'size': 3000, 'creation_date': datetime.datetime(2025, 2, 6, 12, 22, 27, 414174), 'owner': 'user3', 'resolution': '4000x3000', 'camera_model': 'Canon EOS 5D'}\n"
     ]
    }
   ],
   "source": [
    "from datetime import datetime\n",
    "\n",
    "audio = AudioFile(\"song.mp3\", 5000, datetime.now(), \"user1\", duration=180, bitrate=320)\n",
    "video = VideoFile(\"movie.mp4\", 1500000, datetime.now(), \"user2\", resolution=\"1920x1080\", framerate=60)\n",
    "photo = PhotoFile(\"photo.jpg\", 3000, datetime.now(), \"user3\", resolution=\"4000x3000\", camera_model=\"Canon EOS 5D\")\n",
    "\n",
    "print(audio.get_metadata())\n",
    "print(video.get_metadata())\n",
    "print(photo.get_metadata())"
   ]
  },
  {
   "cell_type": "code",
   "execution_count": 9,
   "metadata": {},
   "outputs": [
    {
     "name": "stdout",
     "output_type": "stream",
     "text": [
      "Файл song.mp3 сохранен локально в /local/path/song.mp3\n",
      "Файл photo.jpg загружен в облако по пути /cloud/path/photo.jpg\n",
      "Файл song.mp3 удален из локального хранилища\n",
      "Файл photo.jpg удален из облачного хранилища\n"
     ]
    }
   ],
   "source": [
    "local_storage = LocalStorage()\n",
    "cloud_storage = CloudStorage()\n",
    "\n",
    "local_storage.upload(audio, \"/local/path/song.mp3\")\n",
    "cloud_storage.upload(photo, \"/cloud/path/photo.jpg\")\n",
    "\n",
    "local_storage.delete(audio)\n",
    "cloud_storage.delete(photo)"
   ]
  }
 ],
 "metadata": {
  "kernelspec": {
   "display_name": "venv",
   "language": "python",
   "name": "python3"
  },
  "language_info": {
   "codemirror_mode": {
    "name": "ipython",
    "version": 3
   },
   "file_extension": ".py",
   "mimetype": "text/x-python",
   "name": "python",
   "nbconvert_exporter": "python",
   "pygments_lexer": "ipython3",
   "version": "3.12.3"
  }
 },
 "nbformat": 4,
 "nbformat_minor": 2
}
