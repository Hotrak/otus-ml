{
 "cells": [
  {
   "cell_type": "markdown",
   "id": "bacb7f07",
   "metadata": {},
   "source": [
    "## 1 Линейная алгебра"
   ]
  },
  {
   "cell_type": "markdown",
   "id": "052cf769",
   "metadata": {},
   "source": [
    "### Задание 1"
   ]
  },
  {
   "cell_type": "code",
   "execution_count": 11,
   "id": "ecf8e44d",
   "metadata": {},
   "outputs": [
    {
     "name": "stdout",
     "output_type": "stream",
     "text": [
      "Матрица D = A^T * C - 2 * A^T * B^T:\n",
      "[[ 14  14 -11]\n",
      " [-16   3  -6]]\n"
     ]
    }
   ],
   "source": [
    "import numpy as np\n",
    "\n",
    "A = np.array([[2, -4], \n",
    "              [3, 5], \n",
    "              [-1, 0]])\n",
    "\n",
    "B = np.array([[1, 2, 7], \n",
    "              [-3, -4, 0], \n",
    "              [5, 2, 1]])\n",
    "\n",
    "C = np.array([[6, -3, 9], \n",
    "              [4, -5, 2], \n",
    "              [8, 1, 5]])\n",
    "\n",
    "# 1. Вычисляем транспонированные матрицы\n",
    "A_transposed = A.T\n",
    "B_transposed = B.T\n",
    "\n",
    "# 2. Вычисляем A^T * C\n",
    "ATC = np.dot(A_transposed, C)\n",
    "\n",
    "# 3. Вычисляем A^T * B^T\n",
    "ATBT = np.dot(A_transposed, B_transposed)\n",
    "\n",
    "# 4. Умножаем A^T * B^T на 2\n",
    "two_ATBT = 2 * ATBT\n",
    "\n",
    "# 5. Вычисляем окончательный результат D = A^T * C - 2 * A^T * B^T\n",
    "D = ATC - two_ATBT\n",
    "\n",
    "print(\"Матрица D = A^T * C - 2 * A^T * B^T:\")\n",
    "print(D)"
   ]
  },
  {
   "cell_type": "markdown",
   "id": "66f23594",
   "metadata": {},
   "source": [
    "### Задание 2"
   ]
  },
  {
   "cell_type": "code",
   "execution_count": 12,
   "id": "824498c6",
   "metadata": {},
   "outputs": [
    {
     "name": "stdout",
     "output_type": "stream",
     "text": [
      "Решение:\n",
      "x = 2, y = 6, z = -4, v = 10\n",
      "\n",
      "Проверка:\n",
      "3*A + 2*B =\n",
      "[[ 8 10 -1]\n",
      " [ 1  6  4]]\n",
      "\n",
      "Ожидаемый результат:\n",
      "[[ 8 10 -1]\n",
      " [ 1  6  4]]\n",
      "\n",
      "Проверка пройдена успешно!\n"
     ]
    }
   ],
   "source": [
    "import numpy as np\n",
    "\n",
    "# Определим матричные уравнения как систему линейных уравнений\n",
    "# Уравнение: 3*A + 2*B = C, где:\n",
    "# A = [[x, 2, 3], [-1, y, 4]]\n",
    "# B = [[1, 2, -5], [2, -6, z]]\n",
    "# C = [[8, v, -1], [1, 6, 4]]\n",
    "\n",
    "# Для каждого элемента матрицы составим уравнение:\n",
    "# 1) Для элемента (0,0): 3*x + 2*1 = 8 → 3x + 2 = 8 → 3x = 6 → x = 2\n",
    "# 2) Для элемента (0,1): 3*2 + 2*2 = v → 6 + 4 = v → v = 10\n",
    "# 3) Для элемента (0,2): 3*3 + 2*(-5) = -1 → 9 - 10 = -1 (уже верно, не содержит неизвестных)\n",
    "# 4) Для элемента (1,0): 3*(-1) + 2*2 = 1 → -3 + 4 = 1 (уже верно, не содержит неизвестных)\n",
    "# 5) Для элемента (1,1): 3*y + 2*(-6) = 6 → 3y - 12 = 6 → 3y = 18 → y = 6\n",
    "# 6) Для элемента (1,2): 3*4 + 2*z = 4 → 12 + 2z = 4 → 2z = -8 → z = -4\n",
    "\n",
    "# Результаты:\n",
    "x = 2\n",
    "y = 6\n",
    "z = -4\n",
    "v = 10\n",
    "\n",
    "# Проверим решение подстановкой\n",
    "A = np.array([[x, 2, 3], [-1, y, 4]])\n",
    "B = np.array([[1, 2, -5], [2, -6, z]])\n",
    "C_expected = np.array([[8, v, -1], [1, 6, 4]])\n",
    "\n",
    "C_calculated = 3*A + 2*B\n",
    "\n",
    "print(\"Решение:\")\n",
    "print(f\"x = {x}, y = {y}, z = {z}, v = {v}\\n\")\n",
    "\n",
    "print(\"Проверка:\")\n",
    "print(\"3*A + 2*B =\")\n",
    "print(C_calculated)\n",
    "print(\"\\nОжидаемый результат:\")\n",
    "print(C_expected)\n",
    "\n",
    "# Проверим, совпадают ли матрицы\n",
    "if np.array_equal(C_calculated, C_expected):\n",
    "    print(\"\\nПроверка пройдена успешно!\")\n",
    "else:\n",
    "    print(\"\\nОшибка в решении!\")"
   ]
  },
  {
   "cell_type": "markdown",
   "id": "e7cfd223",
   "metadata": {},
   "source": [
    "### Задание 3"
   ]
  },
  {
   "cell_type": "code",
   "execution_count": 13,
   "id": "b802a4f4",
   "metadata": {},
   "outputs": [
    {
     "name": "stdout",
     "output_type": "stream",
     "text": [
      "Векторы a1 и a2 линейно независимы (детерминант = 1.00), образуют базис B\n",
      "\n",
      "(a) Координаты вектора x в базисе B: [x]_B = (-1.00, -3.00)^T\n",
      "(b) Координаты вектора y в стандартном базисе: y = (1.00, -2.00)^T\n"
     ]
    }
   ],
   "source": [
    "import numpy as np\n",
    "\n",
    "# Задаем векторы в стандартном базисе\n",
    "a1 = np.array([2, -5])\n",
    "a2 = np.array([-1, 3])\n",
    "x = np.array([1, -4])\n",
    "\n",
    "## Часть (a): Нахождение координат x в базисе B\n",
    "\n",
    "# 1. Проверка линейной независимости a1 и a2\n",
    "matrix = np.column_stack((a1, a2))\n",
    "det = np.linalg.det(matrix)\n",
    "\n",
    "if np.isclose(det, 0):\n",
    "    print(\"Векторы a1 и a2 линейно зависимы, не могут образовывать базис\")\n",
    "else:\n",
    "    print(f\"Векторы a1 и a2 линейно независимы (детерминант = {det:.2f}), образуют базис B\")\n",
    "    \n",
    "    # 2. Решаем уравнение x = c1*a1 + c2*a2 относительно c1, c2\n",
    "    # Это эквивалентно решению системы matrix * [c1, c2]^T = x\n",
    "    x_B = np.linalg.solve(matrix, x)\n",
    "    print(f\"\\n(a) Координаты вектора x в базисе B: [x]_B = ({x_B[0]:.2f}, {x_B[1]:.2f})^T\")\n",
    "\n",
    "    ## Часть (b): Нахождение стандартных координат вектора y\n",
    "    y_B = np.array([1, 1])  # [y]_B = (1, 1)^T\n",
    "    \n",
    "    # y = 1*a1 + 1*a2\n",
    "    y_standard = y_B[0] * a1 + y_B[1] * a2\n",
    "    print(f\"(b) Координаты вектора y в стандартном базисе: y = ({y_standard[0]:.2f}, {y_standard[1]:.2f})^T\")"
   ]
  },
  {
   "cell_type": "markdown",
   "id": "839b8d88",
   "metadata": {},
   "source": [
    "### Задание 4"
   ]
  },
  {
   "cell_type": "code",
   "execution_count": 14,
   "id": "1fad538e",
   "metadata": {},
   "outputs": [
    {
     "data": {
      "image/png": "[encoded data removed]",
      "text/plain": [
       "<Figure size 1000x600 with 1 Axes>"
      ]
     },
     "metadata": {},
     "output_type": "display_data"
    }
   ],
   "source": [
    "\n",
    "import numpy as np\n",
    "import matplotlib.pyplot as plt\n",
    "from scipy.linalg import svd\n",
    "\n",
    "# Параметры эксперимента\n",
    "n = 100  # размер матрицы\n",
    "ranks = np.arange(1, 101)  # ранги для аппроксимации от 1 до 100\n",
    "\n",
    "# 1. Генерация случайной матрицы\n",
    "np.random.seed(42)  # для воспроизводимости\n",
    "A = np.random.randn(n, n)\n",
    "\n",
    "# 2. Выполнение сингулярного разложения\n",
    "U, s, Vh = svd(A, full_matrices=False)\n",
    "S = np.diag(s)  # преобразуем вектор сингулярных значений в диагональную матрицу\n",
    "\n",
    "# 3. Вычисление ошибок для разных рангов\n",
    "errors = []\n",
    "\n",
    "for r in ranks:\n",
    "    # Малоранговая аппроксимация\n",
    "    A_approx = U[:, :r] @ S[:r, :r] @ Vh[:r, :]\n",
    "    \n",
    "    # Вычисление ошибки (норма Фробениуса)\n",
    "    error = np.linalg.norm(A - A_approx, 'fro')\n",
    "    errors.append(error)\n",
    "\n",
    "# 4. Построение графика\n",
    "plt.figure(figsize=(10, 6))\n",
    "plt.plot(ranks, errors, 'b-', linewidth=2)\n",
    "plt.xlabel('Ранг аппроксимации (r)', fontsize=12)\n",
    "plt.ylabel('Ошибка аппроксимации (F-норма)', fontsize=12)\n",
    "plt.title('Зависимость ошибки аппроксимации от ранга', fontsize=14)\n",
    "plt.grid(True, alpha=0.3)\n",
    "plt.xlim(1, n)\n",
    "plt.ylim(0, max(errors)*1.05)\n",
    "\n",
    "# Добавим линию для 95% энергии\n",
    "total_energy = np.sum(s**2)\n",
    "energy_level = 0.95 * total_energy\n",
    "cumulative_energy = np.cumsum(s**2)\n",
    "r_95 = np.argmax(cumulative_energy >= energy_level) + 1\n",
    "\n",
    "plt.axvline(x=r_95, color='r', linestyle='--', alpha=0.7)\n",
    "plt.text(r_95+2, max(errors)*0.8, f'95% энергии\\nпри r={r_95}', color='r')\n",
    "\n",
    "plt.show()"
   ]
  },
  {
   "cell_type": "markdown",
   "id": "1b5270b0",
   "metadata": {},
   "source": [
    "## 2 Начала мат.анализа и оптимизации"
   ]
  },
  {
   "cell_type": "markdown",
   "id": "012b4ef1",
   "metadata": {},
   "source": [
    "### Задание 1"
   ]
  },
  {
   "cell_type": "code",
   "execution_count": 15,
   "id": "6c0db133",
   "metadata": {},
   "outputs": [
    {
     "name": "stdout",
     "output_type": "stream",
     "text": [
      "Критические точки:\n",
      "x_c^1 = (-1.000000, 0.000000)\n",
      "x_c^2 = (1.666667, 2.666667)\n",
      "\n",
      "Проверка градиента в критических точках:\n",
      "В точке (-1.00, 0.00): grad = [0.00e+00, 0.00e+00]\n",
      "В точке (1.67, 2.67): grad = [-8.88e-16, 0.00e+00]\n"
     ]
    }
   ],
   "source": [
    "import numpy as np\n",
    "from scipy.optimize import fsolve\n",
    "\n",
    "def f(x):\n",
    "    return x[0]**3 - 2*x[0]*x[1] + x[1]**2 - 3*x[0] - 2*x[1]\n",
    "\n",
    "def gradient(x):\n",
    "    return np.array([\n",
    "        3*x[0]**2 - 2*x[1] - 3,  # df/dx1\n",
    "        -2*x[0] + 2*x[1] - 2      # df/dx2\n",
    "    ])\n",
    "\n",
    "# Находим критические точки численно\n",
    "critical_points = []\n",
    "initial_guesses = [[0, 0], [2, 3]]  # Начальные приближения\n",
    "\n",
    "for guess in initial_guesses:\n",
    "    solution = fsolve(gradient, guess)\n",
    "    critical_points.append(solution)\n",
    "\n",
    "print(\"Критические точки:\")\n",
    "for i, point in enumerate(critical_points, 1):\n",
    "    print(f\"x_c^{i} = ({point[0]:.6f}, {point[1]:.6f})\")\n",
    "\n",
    "# Проверка градиента в критических точках\n",
    "print(\"\\nПроверка градиента в критических точках:\")\n",
    "for point in critical_points:\n",
    "    grad = gradient(point)\n",
    "    print(f\"В точке ({point[0]:.2f}, {point[1]:.2f}): grad = [{grad[0]:.2e}, {grad[1]:.2e}]\")"
   ]
  },
  {
   "cell_type": "markdown",
   "id": "b6aa7697",
   "metadata": {},
   "source": [
    "### Задание 2"
   ]
  },
  {
   "cell_type": "code",
   "execution_count": 16,
   "id": "8d7f4a0e",
   "metadata": {},
   "outputs": [
    {
     "name": "stdout",
     "output_type": "stream",
     "text": [
      "Функция f = log(sqrt(x1) + sqrt(x2))\n",
      "\n",
      "Частная производная по x1:\n",
      "∂f/∂x1 = 1/(2*sqrt(x1)*(sqrt(x1) + sqrt(x2)))\n",
      "\n",
      "Частная производная по x2:\n",
      "∂f/∂x2 = 1/(2*sqrt(x2)*(sqrt(x1) + sqrt(x2)))\n",
      "\n",
      "Левая часть уравнения (x1*∂f/∂x1 + x2*∂f/∂x2):\n",
      "Результат = 1/2\n",
      "\n",
      "Уравнение выполняется: x1*∂f/∂x1 + x2*∂f/∂x2 = 1/2\n"
     ]
    }
   ],
   "source": [
    "import sympy as sp\n",
    "\n",
    "# Определяем символьные переменные\n",
    "x1, x2 = sp.symbols('x1 x2', positive=True)  # x1 > 0, x2 > 0 для корректности логарифма и корней\n",
    "\n",
    "# Определяем функцию\n",
    "f = sp.ln(sp.sqrt(x1) + sp.sqrt(x2))\n",
    "\n",
    "# Вычисляем частные производные\n",
    "df_dx1 = sp.diff(f, x1)\n",
    "df_dx2 = sp.diff(f, x2)\n",
    "\n",
    "# Вычисляем левую часть уравнения\n",
    "left_side = x1 * df_dx1 + x2 * df_dx2\n",
    "\n",
    "# Упрощаем выражение\n",
    "simplified = sp.simplify(left_side)\n",
    "\n",
    "print(\"Функция f =\", f)\n",
    "print(\"\\nЧастная производная по x1:\")\n",
    "print(\"∂f/∂x1 =\", df_dx1)\n",
    "print(\"\\nЧастная производная по x2:\")\n",
    "print(\"∂f/∂x2 =\", df_dx2)\n",
    "print(\"\\nЛевая часть уравнения (x1*∂f/∂x1 + x2*∂f/∂x2):\")\n",
    "print(\"Результат =\", simplified)\n",
    "\n",
    "# Проверяем равенство 1/2\n",
    "if simplified == sp.Rational(1, 2):\n",
    "    print(\"\\nУравнение выполняется: x1*∂f/∂x1 + x2*∂f/∂x2 = 1/2\")\n",
    "else:\n",
    "    print(\"\\nУравнение не выполняется\")"
   ]
  },
  {
   "cell_type": "markdown",
   "id": "33afd94c",
   "metadata": {},
   "source": [
    "### Задание 3"
   ]
  },
  {
   "cell_type": "code",
   "execution_count": 17,
   "id": "9c4e7f15",
   "metadata": {},
   "outputs": [
    {
     "name": "stdout",
     "output_type": "stream",
     "text": [
      "Градиент функции f(x,y,z):\n",
      "∇f = (2*x*y**2*z**2 + 1, 2*x**2*y*z**2 + 1, 2*x**2*y**2*z + 1)\n",
      "\n",
      "Значение градиента в точке v = (1, 2, 3):\n",
      "∇f(v) = (73, 37, 25)\n",
      "\n",
      "Численный расчет градиента:\n",
      "∇f(v) = [73 37 25]\n"
     ]
    }
   ],
   "source": [
    "import numpy as np\n",
    "import sympy as sp\n",
    "\n",
    "# Определяем символьные переменные\n",
    "x, y, z = sp.symbols('x y z')\n",
    "\n",
    "# Определяем функцию\n",
    "f = x + y + z + (x*y*z)**2\n",
    "\n",
    "# Вычисляем градиент (вектор частных производных)\n",
    "gradient_f = [sp.diff(f, var) for var in (x, y, z)]\n",
    "\n",
    "print(\"Градиент функции f(x,y,z):\")\n",
    "print(f\"∇f = ({gradient_f[0]}, {gradient_f[1]}, {gradient_f[2]})\")\n",
    "\n",
    "# Вычисляем численное значение градиента в точке v = (1, 2, 3)\n",
    "v = (1, 2, 3)\n",
    "grad_at_v = [expr.subs({x:v[0], y:v[1], z:v[2]}) for expr in gradient_f]\n",
    "\n",
    "print(\"\\nЗначение градиента в точке v = (1, 2, 3):\")\n",
    "print(f\"∇f(v) = ({grad_at_v[0]}, {grad_at_v[1]}, {grad_at_v[2]})\")\n",
    "\n",
    "# Альтернативное решение с численными вычислениями\n",
    "def f_numeric(x, y, z):\n",
    "    return x + y + z + (x*y*z)**2\n",
    "\n",
    "def gradient_numeric(x, y, z):\n",
    "    df_dx = 1 + 2*x * (y*z)**2\n",
    "    df_dy = 1 + 2*y * (x*z)**2\n",
    "    df_dz = 1 + 2*z * (x*y)**2\n",
    "    return np.array([df_dx, df_dy, df_dz])\n",
    "\n",
    "grad_num = gradient_numeric(*v)\n",
    "print(\"\\nЧисленный расчет градиента:\")\n",
    "print(f\"∇f(v) = {grad_num}\")"
   ]
  },
  {
   "cell_type": "markdown",
   "id": "9272abb8",
   "metadata": {},
   "source": [
    "### Задание 4 "
   ]
  },
  {
   "cell_type": "code",
   "execution_count": 18,
   "id": "0dbdcc01",
   "metadata": {},
   "outputs": [
    {
     "name": "stdout",
     "output_type": "stream",
     "text": [
      "Входной вектор x: [1 2 3]\n",
      "Градиент ∇f(x): [0.26726124 0.53452248 0.80178373]\n",
      "Дифференциал df(x) для dx=[0.1 0.2 0.3]: 0.3742\n",
      "\n",
      "Проверка аналитического решения:\n",
      "Вычисленный градиент: [0.26726124 0.53452248 0.80178373]\n",
      "Аналитический градиент: [0.26726124 0.53452248 0.80178373]\n",
      "Совпадают: True\n"
     ]
    }
   ],
   "source": [
    "import numpy as np\n",
    "\n",
    "def compute_gradient(x):\n",
    "    \"\"\"Вычисляет градиент функции f(x) = ||x||_2\"\"\"\n",
    "    norm = np.linalg.norm(x)\n",
    "    if norm == 0:\n",
    "        raise ValueError(\"Норма вектора не может быть нулевой (x ∈ R^n \\\\ {0})\")\n",
    "    return x / norm\n",
    "\n",
    "def compute_differential(x, dx):\n",
    "    \"\"\"Вычисляет дифференциал df(x) = (x^T dx)/||x||\"\"\"\n",
    "    norm = np.linalg.norm(x)\n",
    "    if norm == 0:\n",
    "        raise ValueError(\"Норма вектора не может быть нулевой (x ∈ R^n \\\\ {0})\")\n",
    "    return np.dot(x, dx) / norm\n",
    "\n",
    "# Пример использования\n",
    "n = 3  # Размерность пространства\n",
    "x = np.array([1, 2, 3])  # Точка в R^3\n",
    "dx = np.array([0.1, 0.2, 0.3])  # Приращение\n",
    "\n",
    "try:\n",
    "    grad = compute_gradient(x)\n",
    "    diff = compute_differential(x, dx)\n",
    "    \n",
    "    print(f\"Входной вектор x: {x}\")\n",
    "    print(f\"Градиент ∇f(x): {grad}\")\n",
    "    print(f\"Дифференциал df(x) для dx={dx}: {diff:.4f}\")\n",
    "    \n",
    "    # Проверка аналитического решения\n",
    "    analytical_grad = x / np.linalg.norm(x)\n",
    "    print(\"\\nПроверка аналитического решения:\")\n",
    "    print(f\"Вычисленный градиент: {grad}\")\n",
    "    print(f\"Аналитический градиент: {analytical_grad}\")\n",
    "    print(f\"Совпадают: {np.allclose(grad, analytical_grad)}\")\n",
    "    \n",
    "except ValueError as e:\n",
    "    print(f\"Ошибка: {e}\")"
   ]
  },
  {
   "cell_type": "markdown",
   "id": "e21c1a07",
   "metadata": {},
   "source": [
    "### Задание 5"
   ]
  },
  {
   "cell_type": "code",
   "execution_count": 19,
   "id": "e174914a",
   "metadata": {},
   "outputs": [
    {
     "name": "stdout",
     "output_type": "stream",
     "text": [
      "Матрица A:\n",
      "[[1 2 3]\n",
      " [4 5 6]]\n",
      "\n",
      "Входной вектор x: [ 1 -1  2]\n",
      "\n",
      "Градиент ∇f(x): [3.96226513 5.09878912 6.2353131 ]\n",
      "\n",
      "Дифференциал df(x) для dx=[ 0.1 -0.2  0.3]: 1.2471\n",
      "\n",
      "Численная проверка градиента:\n",
      "Аналитический градиент: [3.96226513 5.09878912 6.2353131 ]\n",
      "Численный градиент:     [1961653       0 3114816]\n",
      "Относительная погрешность: 4.10e+05\n"
     ]
    }
   ],
   "source": [
    "import numpy as np\n",
    "\n",
    "def compute_gradient(A, x):\n",
    "    \"\"\"Вычисляет градиент функции f(x) = ||Ax||_3\"\"\"\n",
    "    Ax = A @ x\n",
    "    norm_3 = np.linalg.norm(Ax, ord=3)\n",
    "    if norm_3 == 0:\n",
    "        raise ValueError(\"Норма Ax не может быть нулевой (x ∈ R^n \\\\ {0})\")\n",
    "    return A.T @ (Ax**2) / (norm_3**2)\n",
    "\n",
    "def compute_differential(A, x, dx):\n",
    "    \"\"\"Вычисляет дифференциал df(x)\"\"\"\n",
    "    Ax = A @ x\n",
    "    norm_3 = np.linalg.norm(Ax, ord=3)\n",
    "    if norm_3 == 0:\n",
    "        raise ValueError(\"Норма Ax не может быть нулевой (x ∈ R^n \\\\ {0})\")\n",
    "    return (Ax**2).T @ (A @ dx) / (norm_3**2)\n",
    "\n",
    "# Пример использования\n",
    "n = 3  # Размерность x\n",
    "m = 2  # Размерность Ax\n",
    "\n",
    "# Случайная матрица A\n",
    "A = np.array([[1, 2, 3], \n",
    "              [4, 5, 6]])\n",
    "\n",
    "# Точка x и приращение dx\n",
    "x = np.array([1, -1, 2])\n",
    "dx = np.array([0.1, -0.2, 0.3])\n",
    "\n",
    "try:\n",
    "    grad = compute_gradient(A, x)\n",
    "    diff = compute_differential(A, x, dx)\n",
    "    \n",
    "    print(f\"Матрица A:\\n{A}\")\n",
    "    print(f\"\\nВходной вектор x: {x}\")\n",
    "    print(f\"\\nГрадиент ∇f(x): {grad}\")\n",
    "    print(f\"\\nДифференциал df(x) для dx={dx}: {diff:.4f}\")\n",
    "    \n",
    "    # Численная проверка градиента\n",
    "    h = 1e-6\n",
    "    numerical_grad = np.zeros_like(x)\n",
    "    for i in range(len(x)):\n",
    "        x_perturbed = x.copy()\n",
    "        x_perturbed[i] += h\n",
    "        f_plus = np.linalg.norm(A @ x_perturbed, ord=3)\n",
    "        x_perturbed[i] -= 2*h\n",
    "        f_minus = np.linalg.norm(A @ x_perturbed, ord=3)\n",
    "        numerical_grad[i] = (f_plus - f_minus) / (2*h)\n",
    "    \n",
    "    print(\"\\nЧисленная проверка градиента:\")\n",
    "    print(f\"Аналитический градиент: {grad}\")\n",
    "    print(f\"Численный градиент:     {numerical_grad}\")\n",
    "    print(f\"Относительная погрешность: {np.linalg.norm(grad - numerical_grad)/np.linalg.norm(grad):.2e}\")\n",
    "    \n",
    "except ValueError as e:\n",
    "    print(f\"Ошибка: {e}\")"
   ]
  }
 ],
 "metadata": {
  "kernelspec": {
   "display_name": ".venv",
   "language": "python",
   "name": "python3"
  },
  "language_info": {
   "codemirror_mode": {
    "name": "ipython",
    "version": 3
   },
   "file_extension": ".py",
   "mimetype": "text/x-python",
   "name": "python",
   "nbconvert_exporter": "python",
   "pygments_lexer": "ipython3",
   "version": "3.12.3"
  }
 },
 "nbformat": 4,
 "nbformat_minor": 5
}
